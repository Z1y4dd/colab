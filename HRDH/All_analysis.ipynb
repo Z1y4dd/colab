{
 "cells": [
  {
   "cell_type": "markdown",
   "id": "9775b38f",
   "metadata": {},
   "source": [
    "# 1. Load & Concatenate"
   ]
  },
  {
   "cell_type": "code",
   "execution_count": null,
   "id": "55ad1d13",
   "metadata": {},
   "outputs": [],
   "source": [
    "import pandas as pd\n",
    "import glob\n",
    "from pathlib import Path\n",
    "\n",
    "files = glob.glob('*_joined.csv')  \n",
    "\n",
    "# 2. Read and tag each\n",
    "df_list = []\n",
    "for fp in files:\n",
    "    well = Path(fp).stem.replace('_joined','')\n",
    "    df = pd.read_csv(fp, index_col=0)  # assuming index_col=0 holds the match index or depth\n",
    "    df['Well'] = well\n",
    "    df_list.append(df)\n",
    "\n",
    "# 3. Concatenate\n",
    "all_wells = pd.concat(df_list, axis=0)\n",
    "all_wells.reset_index(drop=True, inplace=True)\n",
    "\n",
    "print(all_wells['Well'].value_counts())\n"
   ]
  },
  {
   "cell_type": "markdown",
   "id": "28a451b0",
   "metadata": {},
   "source": [
    "# 2. Cross-Well Summary Statistics"
   ]
  },
  {
   "cell_type": "code",
   "execution_count": null,
   "id": "caacae04",
   "metadata": {},
   "outputs": [],
   "source": [
    "# Choose a few lab and log variables common to all wells\n",
    "lab_vars = [c for c in all_wells.columns if c.startswith('Lab_')]\n",
    "log_vars = [c for c in all_wells.columns if c.startswith('Log_')]\n",
    "\n",
    "# 1. Per-well means & std\n",
    "summary = all_wells.groupby('Well')[lab_vars + log_vars] \\\n",
    "                  .agg(['mean','std','count']) \\\n",
    "                  .round(3)\n",
    "summary\n"
   ]
  },
  {
   "cell_type": "markdown",
   "id": "10ec1b26",
   "metadata": {},
   "source": [
    "# 3. Compare Distributions (Facet Grids)"
   ]
  },
  {
   "cell_type": "code",
   "execution_count": null,
   "id": "6e669029",
   "metadata": {},
   "outputs": [],
   "source": [
    "import seaborn as sns\n",
    "import matplotlib.pyplot as plt\n",
    "\n",
    "# Example: compare distribution of one Log measure across wells\n",
    "sns.displot(\n",
    "    data=all_wells,\n",
    "    x='Log_GR',\n",
    "    col='Well',\n",
    "    kind='kde',\n",
    "    height=4,\n",
    "    aspect=1\n",
    ")\n",
    "plt.suptitle('Log_GR Distribution by Well', y=1.02)\n",
    "plt.show()\n",
    "\n",
    "# Or for multiple labs in one grid:\n",
    "sns.catplot(\n",
    "    data=all_wells.melt(id_vars='Well', value_vars=lab_vars[:4]),\n",
    "    x='Well', y='value', col='variable',\n",
    "    kind='box', sharey=False,\n",
    "    height=4, aspect=0.8\n",
    ")\n",
    "plt.show()\n"
   ]
  },
  {
   "cell_type": "markdown",
   "id": "c61c68d4",
   "metadata": {},
   "source": [
    "# 4. Cross-Well Correlation Comparison"
   ]
  },
  {
   "cell_type": "code",
   "execution_count": null,
   "id": "110990a1",
   "metadata": {},
   "outputs": [],
   "source": [
    "import numpy as np\n",
    "\n",
    "# Build a dict of corr DataFrames\n",
    "corrs = {\n",
    "    well: df[log_vars + lab_vars].corr().loc[log_vars, lab_vars]\n",
    "    for well, df in all_wells.groupby('Well')\n",
    "}\n",
    "\n",
    "# Plot them in a grid\n",
    "n = len(corrs)\n",
    "fig, axes = plt.subplots(1, n, figsize=(6*n, 6))\n",
    "for ax, (well, cm) in zip(axes, corrs.items()):\n",
    "    sns.heatmap(cm, ax=ax, vmin=-1, vmax=1, cmap='RdYlGn',\n",
    "                cbar=(ax is axes[-1]),  # show colorbar only on last\n",
    "                square=True)\n",
    "    ax.set_title(f'{well} Correlation')\n",
    "plt.tight_layout()\n",
    "plt.show()"
   ]
  },
  {
   "cell_type": "markdown",
   "id": "af30621a",
   "metadata": {},
   "source": [
    "# 5. Advanced: Cluster Wells by Pattern"
   ]
  },
  {
   "cell_type": "code",
   "execution_count": null,
   "id": "db83dc9f",
   "metadata": {},
   "outputs": [],
   "source": [
    "from sklearn.cluster import AgglomerativeClustering\n",
    "from sklearn.preprocessing import StandardScaler\n",
    "\n",
    "# 1. Flatten each corr into a vector\n",
    "vecs = []\n",
    "wells = []\n",
    "for well, cm in corrs.items():\n",
    "    v = cm.values.flatten()\n",
    "    vecs.append(v)\n",
    "    wells.append(well)\n",
    "\n",
    "# 2. Scale & cluster\n",
    "X = StandardScaler().fit_transform(np.vstack(vecs))\n",
    "cl = AgglomerativeClustering(n_clusters=2).fit(X)\n",
    "cluster_df = pd.DataFrame({'Well': wells, 'Cluster': cl.labels_})\n",
    "print(cluster_df)"
   ]
  }
 ],
 "metadata": {
  "kernelspec": {
   "display_name": "Python 3",
   "language": "python",
   "name": "python3"
  },
  "language_info": {
   "codemirror_mode": {
    "name": "ipython",
    "version": 3
   },
   "file_extension": ".py",
   "mimetype": "text/x-python",
   "name": "python",
   "nbconvert_exporter": "python",
   "pygments_lexer": "ipython3",
   "version": "3.12.2"
  }
 },
 "nbformat": 4,
 "nbformat_minor": 5
}
