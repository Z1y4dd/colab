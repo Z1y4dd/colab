{
 "cells": [
  {
   "cell_type": "markdown",
   "metadata": {},
   "source": [
    "# Loading and Exploring Log LAS Files With Python"
   ]
  },
  {
   "cell_type": "markdown",
   "metadata": {},
   "source": [
    "The accompanying video for this notebook can be found on my YouTube channel at:  \n",
    "Please check it out, like and subscribe.\n",
    "\n",
    "## Introduction\n",
    "\n",
    "Log ASCII Standard (LAS) files are a common Oil & Gas industry format for storing and transferring well log data. \n",
    "\n",
    "A LAS file is a structured file format that was developed in the late 1980s and early 1990s by the Canadian Well Logging Society and it is used to store log curve data as well as information about the well. The format makes it simple to transfer well log data between people and it is easy to explore these files as they are stored within plain text.\n",
    "\n",
    "This notebook illustrates how to load data in from a LAS file and carry out a basic QC of the data before plotting it on a log plot."
   ]
  },
  {
   "cell_type": "markdown",
   "metadata": {},
   "source": [
    "## Loading and Checking Data\n",
    "The first step is to import the required libraries: pandas, matplotlib and LASIO.  \n",
    "lasio is a library that has been developed to handle and work with LAS files. More info on the library can be found at: https://lasio.readthedocs.io/en/latest/"
   ]
  },
  {
   "cell_type": "code",
   "execution_count": 1,
   "metadata": {},
   "outputs": [],
   "source": [
    "import pandas as pd\n",
    "import matplotlib.pyplot as plt\n",
    "import lasio"
   ]
  },
  {
   "cell_type": "markdown",
   "metadata": {},
   "source": [
    "To load our file in, we can use the `.read()` method from LASIO like so:"
   ]
  },
  {
   "cell_type": "code",
   "execution_count": 7,
   "metadata": {},
   "outputs": [],
   "source": [
    "las = lasio.read(file_ref=\"Data/15-9-19_SR_COMP.LAS\")"
   ]
  },
  {
   "cell_type": "code",
   "execution_count": 32,
   "metadata": {},
   "outputs": [
    {
     "name": "stdout",
     "output_type": "stream",
     "text": [
      "Mnemonic  Unit  Value         Description                       \n",
      "--------  ----  -----         -----------                       \n",
      "DEPT      M     00 001 00 00  1  DEPTH                          \n",
      "AC        US/F                2  Sonic Transit Time (Slowness)  \n",
      "CALI      IN                  3  Caliper                        \n",
      "DEN       G/CC                4  Bulk Density                   \n",
      "GR        GAPI                5  Gamma Ray                      \n",
      "NEU       %                   6  Neutron Porosity               \n",
      "RDEP      OHMM                7  Deep Resistivity               \n"
     ]
    }
   ],
   "source": [
    "# print(las.version)     # dict-like\n",
    "# print(las.well)\n",
    "print(las.curves)\n",
    "# print(las.params)\n",
    "# print(las.other)"
   ]
  },
  {
   "cell_type": "code",
   "execution_count": 8,
   "metadata": {},
   "outputs": [
    {
     "data": {
      "text/plain": [
       "dict_keys(['Version', 'Well', 'Curves', 'Parameter', 'Other'])"
      ]
     },
     "execution_count": 8,
     "metadata": {},
     "output_type": "execute_result"
    }
   ],
   "source": [
    "las.sections.keys()"
   ]
  },
  {
   "cell_type": "code",
   "execution_count": 9,
   "metadata": {},
   "outputs": [
    {
     "data": {
      "text/plain": [
       "[HeaderItem(mnemonic=\"VERS\", unit=\"\", value=\"2.0\", descr=\"CWLS Log ASCII Standa\"),\n",
       " HeaderItem(mnemonic=\"WRAP\", unit=\"\", value=\"NO\", descr=\"One line per depth ste\")]"
      ]
     },
     "execution_count": 9,
     "metadata": {},
     "output_type": "execute_result"
    }
   ],
   "source": [
    "las.sections['Version']"
   ]
  },
  {
   "cell_type": "code",
   "execution_count": 33,
   "metadata": {},
   "outputs": [
    {
     "data": {
      "text/plain": [
       "[CurveItem(mnemonic=\"DEPT\", unit=\"M\", value=\"00 001 00 00\", descr=\"1  DEPTH\", original_mnemonic=\"DEPT\", data.shape=(6701,)),\n",
       " CurveItem(mnemonic=\"AC\", unit=\"US/F\", value=\"\", descr=\"2  Sonic Transit Time (Slowness)\", original_mnemonic=\"AC\", data.shape=(6701,)),\n",
       " CurveItem(mnemonic=\"CALI\", unit=\"IN\", value=\"\", descr=\"3  Caliper\", original_mnemonic=\"CALI\", data.shape=(6701,)),\n",
       " CurveItem(mnemonic=\"DEN\", unit=\"G/CC\", value=\"\", descr=\"4  Bulk Density\", original_mnemonic=\"DEN\", data.shape=(6701,)),\n",
       " CurveItem(mnemonic=\"GR\", unit=\"GAPI\", value=\"\", descr=\"5  Gamma Ray\", original_mnemonic=\"GR\", data.shape=(6701,)),\n",
       " CurveItem(mnemonic=\"NEU\", unit=\"%\", value=\"\", descr=\"6  Neutron Porosity\", original_mnemonic=\"NEU\", data.shape=(6701,)),\n",
       " CurveItem(mnemonic=\"RDEP\", unit=\"OHMM\", value=\"\", descr=\"7  Deep Resistivity\", original_mnemonic=\"RDEP\", data.shape=(6701,))]"
      ]
     },
     "execution_count": 33,
     "metadata": {},
     "output_type": "execute_result"
    }
   ],
   "source": [
    "las.sections['Curves']"
   ]
  },
  {
   "cell_type": "markdown",
   "metadata": {},
   "source": [
    "Now that our file has been loaded, we can start investigating it's contents.\n",
    "\n",
    "To find information out about where the file originated from, such as the well name, location and what the depth range of the file covers, we can create a simple for loop to go over each header item. Using Python's f-string we can join the items together."
   ]
  },
  {
   "cell_type": "code",
   "execution_count": 10,
   "metadata": {},
   "outputs": [
    {
     "name": "stdout",
     "output_type": "stream",
     "text": [
      "Top Depth (STRT): \t\t 102.1568\n",
      "Bottom Depth (STOP): \t\t 4636.514\n",
      "Depth Increment (STEP): \t\t 0.1524\n",
      "Null Value (NULL): \t\t -999.25\n",
      "Field Name (FLD): \t\t Q15\n",
      "NAME (WELL): \t\t 15/9-19\n",
      "WELLBORE (WBN): \t\t 15/9-19 SR\n",
      "COUNTRY (NATI): \t\t NOR\n",
      "COUNTRY (CTRY): \t\t NOR\n",
      "OPERATOR (COMP): \t\t STATOIL\n",
      "PERM DATUM (PDAT): \t\t MSL\n",
      "RIG NAME (COUN): \t\t NORTH SEA\n",
      "STATE (STAT): \t\t NORWAY\n",
      "PB WELL ID (PBWE): \t\t 15/9-19\n",
      "PB WELLBORE ID (APIN): \t\t 15/9-19 SR\n",
      "PB WELL NAME SET (PBWS): \t\t ALL\n"
     ]
    }
   ],
   "source": [
    "for item in las.sections['Well']:\n",
    "    print(f\"{item.descr} ({item.mnemonic}): \\t\\t {item.value}\")"
   ]
  },
  {
   "cell_type": "markdown",
   "metadata": {},
   "source": [
    "We can see above that we have the key information about the well, such as the name and location.\n",
    "\n",
    "If we wanted to change one of these entries, for example, COUNTRY (CTRY), we can easily do that by using the following line of code."
   ]
  },
  {
   "cell_type": "code",
   "execution_count": 11,
   "metadata": {},
   "outputs": [],
   "source": [
    "las.sections['Well']['CTRY'] = 'Norway'"
   ]
  },
  {
   "cell_type": "markdown",
   "metadata": {},
   "source": [
    "We can now see that if we run the code again the COUNTRY value is updated."
   ]
  },
  {
   "cell_type": "code",
   "execution_count": 12,
   "metadata": {},
   "outputs": [
    {
     "name": "stdout",
     "output_type": "stream",
     "text": [
      "Top Depth (STRT): \t\t 102.1568\n",
      "Bottom Depth (STOP): \t\t 4636.514\n",
      "Depth Increment (STEP): \t\t 0.1524\n",
      "Null Value (NULL): \t\t -999.25\n",
      "Field Name (FLD): \t\t Q15\n",
      "NAME (WELL): \t\t 15/9-19\n",
      "WELLBORE (WBN): \t\t 15/9-19 SR\n",
      "COUNTRY (NATI): \t\t NOR\n",
      "COUNTRY (CTRY): \t\t Norway\n",
      "OPERATOR (COMP): \t\t STATOIL\n",
      "PERM DATUM (PDAT): \t\t MSL\n",
      "RIG NAME (COUN): \t\t NORTH SEA\n",
      "STATE (STAT): \t\t NORWAY\n",
      "PB WELL ID (PBWE): \t\t 15/9-19\n",
      "PB WELLBORE ID (APIN): \t\t 15/9-19 SR\n",
      "PB WELL NAME SET (PBWS): \t\t ALL\n"
     ]
    }
   ],
   "source": [
    "for item in las.sections['Well']:\n",
    "    print(f\"{item.descr} ({item.mnemonic}): \\t\\t {item.value}\")"
   ]
  },
  {
   "cell_type": "markdown",
   "metadata": {},
   "source": [
    "We can also call upon the sections in a different way.\n",
    "In this case we can use `las.well` to call upon the well section.\n",
    "\n",
    "If we just want to extract the Well Name, we can simply call it by using the following:"
   ]
  },
  {
   "cell_type": "code",
   "execution_count": 13,
   "metadata": {},
   "outputs": [
    {
     "data": {
      "text/plain": [
       "'15/9-19'"
      ]
     },
     "execution_count": 13,
     "metadata": {},
     "output_type": "execute_result"
    }
   ],
   "source": [
    "las.well.WELL.value"
   ]
  },
  {
   "cell_type": "markdown",
   "metadata": {},
   "source": [
    "To quickly see what curve mnemonics are present within the las file we can loop through `las.curves` and print the mnemonic."
   ]
  },
  {
   "cell_type": "code",
   "execution_count": 14,
   "metadata": {},
   "outputs": [
    {
     "name": "stdout",
     "output_type": "stream",
     "text": [
      "DEPT\n",
      "AC\n",
      "CALI\n",
      "DEN\n",
      "GR\n",
      "NEU\n",
      "RDEP\n",
      "RMED\n"
     ]
    }
   ],
   "source": [
    "for curve in las.curves:\n",
    "    print(curve.mnemonic)"
   ]
  },
  {
   "cell_type": "markdown",
   "metadata": {},
   "source": [
    "To see what curves are present within the las file, we can repeat the process with the Curve Item object and call upon the `unit` and `descr` functions to get info on the units and the curve's description.\n",
    "The enumerate function allows us to keep a count of the number of curves that are present within the file. As enumerate returns a 0 on the first loop, we need to 1 to it if we want to include the depth curve."
   ]
  },
  {
   "cell_type": "code",
   "execution_count": null,
   "metadata": {},
   "outputs": [
    {
     "name": "stdout",
     "output_type": "stream",
     "text": [
      "Curve: DEPT, \t Units: M, \t Description: 1  DEPTH\n",
      "Curve: AC, \t Units: US/F, \t Description: 2  Sonic Transit Time (Slowness)\n",
      "Curve: CALI, \t Units: IN, \t Description: 3  Caliper\n",
      "Curve: DEN, \t Units: G/CC, \t Description: 4  Bulk Density\n",
      "Curve: GR, \t Units: GAPI, \t Description: 5  Gamma Ray\n",
      "Curve: NEU, \t Units: %, \t Description: 6  Neutron Porosity\n",
      "Curve: RDEP, \t Units: OHMM, \t Description: 7  Deep Resistivity\n",
      "Curve: RMED, \t Units: OHMM, \t Description: 8  Medium Resistivity\n",
      "There are a total of: 8 curves present within this file\n"
     ]
    }
   ],
   "source": [
    "for count, curve in enumerate(las.curves):\n",
    "    print(f\"Curve: {curve.mnemonic}, \\t Units: {curve.unit}, \\t Description: {curve.descr}\")\n",
    "print(f\"There are a total of: {count+1} curves present within this file\")"
   ]
  },
  {
   "cell_type": "markdown",
   "metadata": {},
   "source": [
    "Curves can easily be removed from the LAS file. For example, if we do not whish to retain the RMED curve, we can remove it like so:"
   ]
  },
  {
   "cell_type": "code",
   "execution_count": 16,
   "metadata": {},
   "outputs": [],
   "source": [
    "las.delete_curve('RMED')"
   ]
  },
  {
   "cell_type": "code",
   "execution_count": 17,
   "metadata": {},
   "outputs": [
    {
     "name": "stdout",
     "output_type": "stream",
     "text": [
      "Curve: DEPT, \t Units: M, \t Description: 1  DEPTH\n",
      "Curve: AC, \t Units: US/F, \t Description: 2  Sonic Transit Time (Slowness)\n",
      "Curve: CALI, \t Units: IN, \t Description: 3  Caliper\n",
      "Curve: DEN, \t Units: G/CC, \t Description: 4  Bulk Density\n",
      "Curve: GR, \t Units: GAPI, \t Description: 5  Gamma Ray\n",
      "Curve: NEU, \t Units: %, \t Description: 6  Neutron Porosity\n",
      "Curve: RDEP, \t Units: OHMM, \t Description: 7  Deep Resistivity\n",
      "There are a total of: 7 curves present within this file\n"
     ]
    }
   ],
   "source": [
    "for count, curve in enumerate(las.curves):\n",
    "    print(f\"Curve: {curve.mnemonic}, \\t Units: {curve.unit}, \\t Description: {curve.descr}\")\n",
    "print(f\"There are a total of: {count+1} curves present within this file\")"
   ]
  },
  {
   "cell_type": "code",
   "execution_count": 18,
   "metadata": {},
   "outputs": [],
   "source": [
    "las.write('Exports/15_9-19_Exported.las')"
   ]
  },
  {
   "cell_type": "markdown",
   "metadata": {},
   "source": [
    "## Converting LAS File to a Pandas Dataframe\n",
    "Data loaded in using LASIO can be converted to a pandas dataframe using the .df() function. This allows us to easily plot data and pass it into one of the many machine learning algorithms."
   ]
  },
  {
   "cell_type": "code",
   "execution_count": 19,
   "metadata": {},
   "outputs": [],
   "source": [
    "well = las.df()"
   ]
  },
  {
   "cell_type": "markdown",
   "metadata": {},
   "source": [
    "The `.head()` function generates a table view of the header and the first 5 rows within the dataframe."
   ]
  },
  {
   "cell_type": "code",
   "execution_count": 35,
   "metadata": {},
   "outputs": [
    {
     "data": {
      "application/vnd.microsoft.datawrangler.viewer.v0+json": {
       "columns": [
        {
         "name": "DEPT",
         "rawType": "float64",
         "type": "float"
        },
        {
         "name": "AC",
         "rawType": "float64",
         "type": "float"
        },
        {
         "name": "CALI",
         "rawType": "float64",
         "type": "float"
        },
        {
         "name": "DEN",
         "rawType": "float64",
         "type": "float"
        },
        {
         "name": "GR",
         "rawType": "float64",
         "type": "float"
        },
        {
         "name": "NEU",
         "rawType": "float64",
         "type": "float"
        },
        {
         "name": "RDEP",
         "rawType": "float64",
         "type": "float"
        }
       ],
       "ref": "77b4faee-087f-4dbd-88a6-cba541a231bd",
       "rows": [
        [
         "3615.434",
         "95.7952",
         "12.7249",
         "2.3429",
         "54.8754",
         "44.5742",
         "0.8941"
        ],
        [
         "3615.5864",
         "94.2267",
         "12.5961",
         "2.3528",
         "53.5158",
         "62.1103",
         "0.7367"
        ],
        [
         "3615.7388",
         "101.3254",
         "13.7632",
         "2.317",
         "48.9803",
         "71.9087",
         "0.6423"
        ],
        [
         "3615.8912",
         "99.5672",
         "14.3249",
         "2.2585",
         "36.6762",
         "44.8988",
         "0.6571"
        ],
        [
         "3616.0436",
         "100.5965",
         "11.1429",
         "2.2108",
         "40.4632",
         "49.5744",
         "0.7442"
        ],
        [
         "3616.196",
         "101.3599",
         "11.1429",
         "2.2043",
         "34.5944",
         "33.7486",
         "0.7461"
        ],
        [
         "3616.3484",
         "101.7746",
         "10.2602",
         "2.2558",
         "30.2169",
         "25.1014",
         "0.7584"
        ],
        [
         "3616.5008",
         "93.591",
         "10.0952",
         "2.3477",
         "32.7352",
         "15.9389",
         "0.9299"
        ],
        [
         "3616.6532",
         "86.7889",
         "10.4122",
         "2.4238",
         "30.3098",
         "14.3046",
         "1.1877"
        ],
        [
         "3616.8056",
         "113.5721",
         "10.1185",
         "2.4514",
         "32.6037",
         "12.7656",
         "1.2524"
        ],
        [
         "3616.958",
         "114.887",
         "9.4286",
         "2.4613",
         "29.1877",
         "14.5347",
         "1.1941"
        ],
        [
         "3617.1104",
         "111.0009",
         "9.4961",
         "2.4681",
         "27.5391",
         "13.9872",
         "1.1643"
        ],
        [
         "3617.2628",
         "118.4935",
         "9.5238",
         "2.4664",
         "32.0472",
         "17.0177",
         "1.1769"
        ],
        [
         "3617.4152",
         "117.725",
         "9.5238",
         "2.4565",
         "30.0272",
         "22.0449",
         "1.1877"
        ],
        [
         "3617.5676",
         "71.3232",
         "9.5238",
         "2.4434",
         "32.0201",
         "27.61",
         "1.1802"
        ],
        [
         "3617.72",
         "72.0622",
         "9.5238",
         "2.419",
         "33.422",
         "28.0136",
         "1.146"
        ],
        [
         "3617.8724",
         "79.6309",
         "9.4967",
         "2.3954",
         "28.6653",
         "34.0052",
         "1.0448"
        ],
        [
         "3618.0248",
         "87.1305",
         "9.4286",
         "2.3691",
         "29.3822",
         "33.3281",
         "0.969"
        ],
        [
         "3618.1772",
         "93.2733",
         "9.3985",
         "2.3254",
         "34.04",
         "26.4729",
         "0.916"
        ],
        [
         "3618.3296",
         "84.5021",
         "9.3333",
         "2.2694",
         "34.04",
         "37.6999",
         "0.8827"
        ],
        [
         "3618.482",
         "85.3355",
         "9.271",
         "2.2434",
         "39.4809",
         "30.5046",
         "0.8046"
        ],
        [
         "3618.6344",
         "90.7607",
         "9.3333",
         "2.2239",
         "40.6847",
         "54.4619",
         "0.7491"
        ],
        [
         "3618.7868",
         "95.0799",
         "9.3691",
         "2.1321",
         "35.6092",
         "95.4091",
         "0.7483"
        ],
        [
         "3618.9392",
         "114.7101",
         "9.8529",
         "2.0919",
         "41.5162",
         "86.7227",
         "0.7485"
        ],
        [
         "3619.0916",
         "149.2187",
         "11.2739",
         "2.2382",
         "46.0491",
         "97.5871",
         "0.7507"
        ],
        [
         "3619.244",
         "149.2187",
         "11.3986",
         "2.3535",
         "40.8043",
         "90.0191",
         "0.734"
        ],
        [
         "3619.3964",
         "145.203",
         "11.5238",
         "2.3766",
         "45.7993",
         "61.9258",
         "0.7315"
        ],
        [
         "3619.5488",
         "141.7253",
         "11.705",
         "2.3795",
         "54.1651",
         "62.0166",
         "0.7564"
        ],
        [
         "3619.7012",
         "137.5889",
         "11.8095",
         "2.3793",
         "55.0605",
         "67.059",
         "0.7658"
        ],
        [
         "3619.8536",
         "129.0768",
         "12.277",
         "2.3736",
         "61.8259",
         "80.5069",
         "0.7572"
        ],
        [
         "3620.006",
         "117.4485",
         "12.8098",
         "2.3329",
         "59.6013",
         "97.1727",
         "0.773"
        ],
        [
         "3620.1584",
         "111.0941",
         "11.1417",
         "2.2282",
         "60.0072",
         "106.4448",
         "0.7931"
        ],
        [
         "3620.3108",
         "110.5732",
         "11.1982",
         "2.1872",
         "57.7056",
         "63.4259",
         "0.8033"
        ],
        [
         "3620.4632",
         "110.4621",
         "12.2978",
         "2.2344",
         "51.918",
         "60.1774",
         "0.8311"
        ],
        [
         "3620.6156",
         "112.2371",
         "12.7837",
         "2.3124",
         "49.0631",
         "88.3375",
         "0.8515"
        ],
        [
         "3620.768",
         "117.8913",
         "13.0338",
         "2.3756",
         "49.3982",
         "90.1326",
         "0.8573"
        ],
        [
         "3620.9204",
         "102.6344",
         "13.6406",
         "2.359",
         "49.481",
         "82.5273",
         "0.8594"
        ],
        [
         "3621.0728",
         "101.6536",
         "15.5779",
         "2.2906",
         "47.0412",
         "66.2048",
         "0.853"
        ],
        [
         "3621.2252",
         "105.9614",
         "17.7143",
         "2.2293",
         "46.6327",
         "88.7961",
         "0.8505"
        ],
        [
         "3621.3776",
         "114.824",
         "17.7396",
         "2.2031",
         "46.1048",
         "52.5279",
         "0.8419"
        ],
        [
         "3621.53",
         "125.3008",
         "18.0899",
         "2.1838",
         "41.2563",
         "98.5979",
         "0.8454"
        ],
        [
         "3621.6824",
         "128.0037",
         "18.6181",
         "2.1648",
         "45.8501",
         "146.3474",
         "0.8611"
        ],
        [
         "3621.8348",
         "133.0906",
         "19.4385",
         "2.1483",
         "44.5325",
         "69.6356",
         "0.9127"
        ],
        [
         "3621.9872",
         "130.1771",
         "20.2857",
         "2.1475",
         "43.5767",
         "60.4151",
         "0.9035"
        ],
        [
         "3622.1396",
         "105.6685",
         "20.0833",
         "2.1735",
         "36.6148",
         "81.5431",
         "0.8836"
        ],
        [
         "3622.292",
         "110.7699",
         "19.4085",
         "2.1934",
         "41.1121",
         "73.4462",
         "0.8754"
        ],
        [
         "3622.4444",
         "108.4846",
         "19.5075",
         "2.184",
         "34.6288",
         "67.9045",
         "0.8633"
        ],
        [
         "3622.5968",
         "100.1235",
         "19.167",
         "2.159",
         "40.552",
         "65.638",
         "0.8222"
        ],
        [
         "3622.7492",
         "102.7397",
         "19.824",
         "2.1406",
         "41.827",
         "45.4569",
         "0.7582"
        ],
        [
         "3622.9016",
         "102.8281",
         "16.67",
         "2.1465",
         "34.5492",
         "33.6156",
         "0.7274"
        ]
       ],
       "shape": {
        "columns": 6,
        "rows": 50
       }
      },
      "text/html": [
       "<div>\n",
       "<style scoped>\n",
       "    .dataframe tbody tr th:only-of-type {\n",
       "        vertical-align: middle;\n",
       "    }\n",
       "\n",
       "    .dataframe tbody tr th {\n",
       "        vertical-align: top;\n",
       "    }\n",
       "\n",
       "    .dataframe thead th {\n",
       "        text-align: right;\n",
       "    }\n",
       "</style>\n",
       "<table border=\"1\" class=\"dataframe\">\n",
       "  <thead>\n",
       "    <tr style=\"text-align: right;\">\n",
       "      <th></th>\n",
       "      <th>AC</th>\n",
       "      <th>CALI</th>\n",
       "      <th>DEN</th>\n",
       "      <th>GR</th>\n",
       "      <th>NEU</th>\n",
       "      <th>RDEP</th>\n",
       "    </tr>\n",
       "    <tr>\n",
       "      <th>DEPT</th>\n",
       "      <th></th>\n",
       "      <th></th>\n",
       "      <th></th>\n",
       "      <th></th>\n",
       "      <th></th>\n",
       "      <th></th>\n",
       "    </tr>\n",
       "  </thead>\n",
       "  <tbody>\n",
       "    <tr>\n",
       "      <th>3615.4340</th>\n",
       "      <td>95.7952</td>\n",
       "      <td>12.7249</td>\n",
       "      <td>2.3429</td>\n",
       "      <td>54.8754</td>\n",
       "      <td>44.5742</td>\n",
       "      <td>0.8941</td>\n",
       "    </tr>\n",
       "    <tr>\n",
       "      <th>3615.5864</th>\n",
       "      <td>94.2267</td>\n",
       "      <td>12.5961</td>\n",
       "      <td>2.3528</td>\n",
       "      <td>53.5158</td>\n",
       "      <td>62.1103</td>\n",
       "      <td>0.7367</td>\n",
       "    </tr>\n",
       "    <tr>\n",
       "      <th>3615.7388</th>\n",
       "      <td>101.3254</td>\n",
       "      <td>13.7632</td>\n",
       "      <td>2.3170</td>\n",
       "      <td>48.9803</td>\n",
       "      <td>71.9087</td>\n",
       "      <td>0.6423</td>\n",
       "    </tr>\n",
       "    <tr>\n",
       "      <th>3615.8912</th>\n",
       "      <td>99.5672</td>\n",
       "      <td>14.3249</td>\n",
       "      <td>2.2585</td>\n",
       "      <td>36.6762</td>\n",
       "      <td>44.8988</td>\n",
       "      <td>0.6571</td>\n",
       "    </tr>\n",
       "    <tr>\n",
       "      <th>3616.0436</th>\n",
       "      <td>100.5965</td>\n",
       "      <td>11.1429</td>\n",
       "      <td>2.2108</td>\n",
       "      <td>40.4632</td>\n",
       "      <td>49.5744</td>\n",
       "      <td>0.7442</td>\n",
       "    </tr>\n",
       "    <tr>\n",
       "      <th>3616.1960</th>\n",
       "      <td>101.3599</td>\n",
       "      <td>11.1429</td>\n",
       "      <td>2.2043</td>\n",
       "      <td>34.5944</td>\n",
       "      <td>33.7486</td>\n",
       "      <td>0.7461</td>\n",
       "    </tr>\n",
       "    <tr>\n",
       "      <th>3616.3484</th>\n",
       "      <td>101.7746</td>\n",
       "      <td>10.2602</td>\n",
       "      <td>2.2558</td>\n",
       "      <td>30.2169</td>\n",
       "      <td>25.1014</td>\n",
       "      <td>0.7584</td>\n",
       "    </tr>\n",
       "    <tr>\n",
       "      <th>3616.5008</th>\n",
       "      <td>93.5910</td>\n",
       "      <td>10.0952</td>\n",
       "      <td>2.3477</td>\n",
       "      <td>32.7352</td>\n",
       "      <td>15.9389</td>\n",
       "      <td>0.9299</td>\n",
       "    </tr>\n",
       "    <tr>\n",
       "      <th>3616.6532</th>\n",
       "      <td>86.7889</td>\n",
       "      <td>10.4122</td>\n",
       "      <td>2.4238</td>\n",
       "      <td>30.3098</td>\n",
       "      <td>14.3046</td>\n",
       "      <td>1.1877</td>\n",
       "    </tr>\n",
       "    <tr>\n",
       "      <th>3616.8056</th>\n",
       "      <td>113.5721</td>\n",
       "      <td>10.1185</td>\n",
       "      <td>2.4514</td>\n",
       "      <td>32.6037</td>\n",
       "      <td>12.7656</td>\n",
       "      <td>1.2524</td>\n",
       "    </tr>\n",
       "    <tr>\n",
       "      <th>3616.9580</th>\n",
       "      <td>114.8870</td>\n",
       "      <td>9.4286</td>\n",
       "      <td>2.4613</td>\n",
       "      <td>29.1877</td>\n",
       "      <td>14.5347</td>\n",
       "      <td>1.1941</td>\n",
       "    </tr>\n",
       "    <tr>\n",
       "      <th>3617.1104</th>\n",
       "      <td>111.0009</td>\n",
       "      <td>9.4961</td>\n",
       "      <td>2.4681</td>\n",
       "      <td>27.5391</td>\n",
       "      <td>13.9872</td>\n",
       "      <td>1.1643</td>\n",
       "    </tr>\n",
       "    <tr>\n",
       "      <th>3617.2628</th>\n",
       "      <td>118.4935</td>\n",
       "      <td>9.5238</td>\n",
       "      <td>2.4664</td>\n",
       "      <td>32.0472</td>\n",
       "      <td>17.0177</td>\n",
       "      <td>1.1769</td>\n",
       "    </tr>\n",
       "    <tr>\n",
       "      <th>3617.4152</th>\n",
       "      <td>117.7250</td>\n",
       "      <td>9.5238</td>\n",
       "      <td>2.4565</td>\n",
       "      <td>30.0272</td>\n",
       "      <td>22.0449</td>\n",
       "      <td>1.1877</td>\n",
       "    </tr>\n",
       "    <tr>\n",
       "      <th>3617.5676</th>\n",
       "      <td>71.3232</td>\n",
       "      <td>9.5238</td>\n",
       "      <td>2.4434</td>\n",
       "      <td>32.0201</td>\n",
       "      <td>27.6100</td>\n",
       "      <td>1.1802</td>\n",
       "    </tr>\n",
       "    <tr>\n",
       "      <th>3617.7200</th>\n",
       "      <td>72.0622</td>\n",
       "      <td>9.5238</td>\n",
       "      <td>2.4190</td>\n",
       "      <td>33.4220</td>\n",
       "      <td>28.0136</td>\n",
       "      <td>1.1460</td>\n",
       "    </tr>\n",
       "    <tr>\n",
       "      <th>3617.8724</th>\n",
       "      <td>79.6309</td>\n",
       "      <td>9.4967</td>\n",
       "      <td>2.3954</td>\n",
       "      <td>28.6653</td>\n",
       "      <td>34.0052</td>\n",
       "      <td>1.0448</td>\n",
       "    </tr>\n",
       "    <tr>\n",
       "      <th>3618.0248</th>\n",
       "      <td>87.1305</td>\n",
       "      <td>9.4286</td>\n",
       "      <td>2.3691</td>\n",
       "      <td>29.3822</td>\n",
       "      <td>33.3281</td>\n",
       "      <td>0.9690</td>\n",
       "    </tr>\n",
       "    <tr>\n",
       "      <th>3618.1772</th>\n",
       "      <td>93.2733</td>\n",
       "      <td>9.3985</td>\n",
       "      <td>2.3254</td>\n",
       "      <td>34.0400</td>\n",
       "      <td>26.4729</td>\n",
       "      <td>0.9160</td>\n",
       "    </tr>\n",
       "    <tr>\n",
       "      <th>3618.3296</th>\n",
       "      <td>84.5021</td>\n",
       "      <td>9.3333</td>\n",
       "      <td>2.2694</td>\n",
       "      <td>34.0400</td>\n",
       "      <td>37.6999</td>\n",
       "      <td>0.8827</td>\n",
       "    </tr>\n",
       "    <tr>\n",
       "      <th>3618.4820</th>\n",
       "      <td>85.3355</td>\n",
       "      <td>9.2710</td>\n",
       "      <td>2.2434</td>\n",
       "      <td>39.4809</td>\n",
       "      <td>30.5046</td>\n",
       "      <td>0.8046</td>\n",
       "    </tr>\n",
       "    <tr>\n",
       "      <th>3618.6344</th>\n",
       "      <td>90.7607</td>\n",
       "      <td>9.3333</td>\n",
       "      <td>2.2239</td>\n",
       "      <td>40.6847</td>\n",
       "      <td>54.4619</td>\n",
       "      <td>0.7491</td>\n",
       "    </tr>\n",
       "    <tr>\n",
       "      <th>3618.7868</th>\n",
       "      <td>95.0799</td>\n",
       "      <td>9.3691</td>\n",
       "      <td>2.1321</td>\n",
       "      <td>35.6092</td>\n",
       "      <td>95.4091</td>\n",
       "      <td>0.7483</td>\n",
       "    </tr>\n",
       "    <tr>\n",
       "      <th>3618.9392</th>\n",
       "      <td>114.7101</td>\n",
       "      <td>9.8529</td>\n",
       "      <td>2.0919</td>\n",
       "      <td>41.5162</td>\n",
       "      <td>86.7227</td>\n",
       "      <td>0.7485</td>\n",
       "    </tr>\n",
       "    <tr>\n",
       "      <th>3619.0916</th>\n",
       "      <td>149.2187</td>\n",
       "      <td>11.2739</td>\n",
       "      <td>2.2382</td>\n",
       "      <td>46.0491</td>\n",
       "      <td>97.5871</td>\n",
       "      <td>0.7507</td>\n",
       "    </tr>\n",
       "    <tr>\n",
       "      <th>3619.2440</th>\n",
       "      <td>149.2187</td>\n",
       "      <td>11.3986</td>\n",
       "      <td>2.3535</td>\n",
       "      <td>40.8043</td>\n",
       "      <td>90.0191</td>\n",
       "      <td>0.7340</td>\n",
       "    </tr>\n",
       "    <tr>\n",
       "      <th>3619.3964</th>\n",
       "      <td>145.2030</td>\n",
       "      <td>11.5238</td>\n",
       "      <td>2.3766</td>\n",
       "      <td>45.7993</td>\n",
       "      <td>61.9258</td>\n",
       "      <td>0.7315</td>\n",
       "    </tr>\n",
       "    <tr>\n",
       "      <th>3619.5488</th>\n",
       "      <td>141.7253</td>\n",
       "      <td>11.7050</td>\n",
       "      <td>2.3795</td>\n",
       "      <td>54.1651</td>\n",
       "      <td>62.0166</td>\n",
       "      <td>0.7564</td>\n",
       "    </tr>\n",
       "    <tr>\n",
       "      <th>3619.7012</th>\n",
       "      <td>137.5889</td>\n",
       "      <td>11.8095</td>\n",
       "      <td>2.3793</td>\n",
       "      <td>55.0605</td>\n",
       "      <td>67.0590</td>\n",
       "      <td>0.7658</td>\n",
       "    </tr>\n",
       "    <tr>\n",
       "      <th>3619.8536</th>\n",
       "      <td>129.0768</td>\n",
       "      <td>12.2770</td>\n",
       "      <td>2.3736</td>\n",
       "      <td>61.8259</td>\n",
       "      <td>80.5069</td>\n",
       "      <td>0.7572</td>\n",
       "    </tr>\n",
       "    <tr>\n",
       "      <th>3620.0060</th>\n",
       "      <td>117.4485</td>\n",
       "      <td>12.8098</td>\n",
       "      <td>2.3329</td>\n",
       "      <td>59.6013</td>\n",
       "      <td>97.1727</td>\n",
       "      <td>0.7730</td>\n",
       "    </tr>\n",
       "    <tr>\n",
       "      <th>3620.1584</th>\n",
       "      <td>111.0941</td>\n",
       "      <td>11.1417</td>\n",
       "      <td>2.2282</td>\n",
       "      <td>60.0072</td>\n",
       "      <td>106.4448</td>\n",
       "      <td>0.7931</td>\n",
       "    </tr>\n",
       "    <tr>\n",
       "      <th>3620.3108</th>\n",
       "      <td>110.5732</td>\n",
       "      <td>11.1982</td>\n",
       "      <td>2.1872</td>\n",
       "      <td>57.7056</td>\n",
       "      <td>63.4259</td>\n",
       "      <td>0.8033</td>\n",
       "    </tr>\n",
       "    <tr>\n",
       "      <th>3620.4632</th>\n",
       "      <td>110.4621</td>\n",
       "      <td>12.2978</td>\n",
       "      <td>2.2344</td>\n",
       "      <td>51.9180</td>\n",
       "      <td>60.1774</td>\n",
       "      <td>0.8311</td>\n",
       "    </tr>\n",
       "    <tr>\n",
       "      <th>3620.6156</th>\n",
       "      <td>112.2371</td>\n",
       "      <td>12.7837</td>\n",
       "      <td>2.3124</td>\n",
       "      <td>49.0631</td>\n",
       "      <td>88.3375</td>\n",
       "      <td>0.8515</td>\n",
       "    </tr>\n",
       "    <tr>\n",
       "      <th>3620.7680</th>\n",
       "      <td>117.8913</td>\n",
       "      <td>13.0338</td>\n",
       "      <td>2.3756</td>\n",
       "      <td>49.3982</td>\n",
       "      <td>90.1326</td>\n",
       "      <td>0.8573</td>\n",
       "    </tr>\n",
       "    <tr>\n",
       "      <th>3620.9204</th>\n",
       "      <td>102.6344</td>\n",
       "      <td>13.6406</td>\n",
       "      <td>2.3590</td>\n",
       "      <td>49.4810</td>\n",
       "      <td>82.5273</td>\n",
       "      <td>0.8594</td>\n",
       "    </tr>\n",
       "    <tr>\n",
       "      <th>3621.0728</th>\n",
       "      <td>101.6536</td>\n",
       "      <td>15.5779</td>\n",
       "      <td>2.2906</td>\n",
       "      <td>47.0412</td>\n",
       "      <td>66.2048</td>\n",
       "      <td>0.8530</td>\n",
       "    </tr>\n",
       "    <tr>\n",
       "      <th>3621.2252</th>\n",
       "      <td>105.9614</td>\n",
       "      <td>17.7143</td>\n",
       "      <td>2.2293</td>\n",
       "      <td>46.6327</td>\n",
       "      <td>88.7961</td>\n",
       "      <td>0.8505</td>\n",
       "    </tr>\n",
       "    <tr>\n",
       "      <th>3621.3776</th>\n",
       "      <td>114.8240</td>\n",
       "      <td>17.7396</td>\n",
       "      <td>2.2031</td>\n",
       "      <td>46.1048</td>\n",
       "      <td>52.5279</td>\n",
       "      <td>0.8419</td>\n",
       "    </tr>\n",
       "    <tr>\n",
       "      <th>3621.5300</th>\n",
       "      <td>125.3008</td>\n",
       "      <td>18.0899</td>\n",
       "      <td>2.1838</td>\n",
       "      <td>41.2563</td>\n",
       "      <td>98.5979</td>\n",
       "      <td>0.8454</td>\n",
       "    </tr>\n",
       "    <tr>\n",
       "      <th>3621.6824</th>\n",
       "      <td>128.0037</td>\n",
       "      <td>18.6181</td>\n",
       "      <td>2.1648</td>\n",
       "      <td>45.8501</td>\n",
       "      <td>146.3474</td>\n",
       "      <td>0.8611</td>\n",
       "    </tr>\n",
       "    <tr>\n",
       "      <th>3621.8348</th>\n",
       "      <td>133.0906</td>\n",
       "      <td>19.4385</td>\n",
       "      <td>2.1483</td>\n",
       "      <td>44.5325</td>\n",
       "      <td>69.6356</td>\n",
       "      <td>0.9127</td>\n",
       "    </tr>\n",
       "    <tr>\n",
       "      <th>3621.9872</th>\n",
       "      <td>130.1771</td>\n",
       "      <td>20.2857</td>\n",
       "      <td>2.1475</td>\n",
       "      <td>43.5767</td>\n",
       "      <td>60.4151</td>\n",
       "      <td>0.9035</td>\n",
       "    </tr>\n",
       "    <tr>\n",
       "      <th>3622.1396</th>\n",
       "      <td>105.6685</td>\n",
       "      <td>20.0833</td>\n",
       "      <td>2.1735</td>\n",
       "      <td>36.6148</td>\n",
       "      <td>81.5431</td>\n",
       "      <td>0.8836</td>\n",
       "    </tr>\n",
       "    <tr>\n",
       "      <th>3622.2920</th>\n",
       "      <td>110.7699</td>\n",
       "      <td>19.4085</td>\n",
       "      <td>2.1934</td>\n",
       "      <td>41.1121</td>\n",
       "      <td>73.4462</td>\n",
       "      <td>0.8754</td>\n",
       "    </tr>\n",
       "    <tr>\n",
       "      <th>3622.4444</th>\n",
       "      <td>108.4846</td>\n",
       "      <td>19.5075</td>\n",
       "      <td>2.1840</td>\n",
       "      <td>34.6288</td>\n",
       "      <td>67.9045</td>\n",
       "      <td>0.8633</td>\n",
       "    </tr>\n",
       "    <tr>\n",
       "      <th>3622.5968</th>\n",
       "      <td>100.1235</td>\n",
       "      <td>19.1670</td>\n",
       "      <td>2.1590</td>\n",
       "      <td>40.5520</td>\n",
       "      <td>65.6380</td>\n",
       "      <td>0.8222</td>\n",
       "    </tr>\n",
       "    <tr>\n",
       "      <th>3622.7492</th>\n",
       "      <td>102.7397</td>\n",
       "      <td>19.8240</td>\n",
       "      <td>2.1406</td>\n",
       "      <td>41.8270</td>\n",
       "      <td>45.4569</td>\n",
       "      <td>0.7582</td>\n",
       "    </tr>\n",
       "    <tr>\n",
       "      <th>3622.9016</th>\n",
       "      <td>102.8281</td>\n",
       "      <td>16.6700</td>\n",
       "      <td>2.1465</td>\n",
       "      <td>34.5492</td>\n",
       "      <td>33.6156</td>\n",
       "      <td>0.7274</td>\n",
       "    </tr>\n",
       "  </tbody>\n",
       "</table>\n",
       "</div>"
      ],
      "text/plain": [
       "                 AC     CALI     DEN       GR       NEU    RDEP\n",
       "DEPT                                                           \n",
       "3615.4340   95.7952  12.7249  2.3429  54.8754   44.5742  0.8941\n",
       "3615.5864   94.2267  12.5961  2.3528  53.5158   62.1103  0.7367\n",
       "3615.7388  101.3254  13.7632  2.3170  48.9803   71.9087  0.6423\n",
       "3615.8912   99.5672  14.3249  2.2585  36.6762   44.8988  0.6571\n",
       "3616.0436  100.5965  11.1429  2.2108  40.4632   49.5744  0.7442\n",
       "3616.1960  101.3599  11.1429  2.2043  34.5944   33.7486  0.7461\n",
       "3616.3484  101.7746  10.2602  2.2558  30.2169   25.1014  0.7584\n",
       "3616.5008   93.5910  10.0952  2.3477  32.7352   15.9389  0.9299\n",
       "3616.6532   86.7889  10.4122  2.4238  30.3098   14.3046  1.1877\n",
       "3616.8056  113.5721  10.1185  2.4514  32.6037   12.7656  1.2524\n",
       "3616.9580  114.8870   9.4286  2.4613  29.1877   14.5347  1.1941\n",
       "3617.1104  111.0009   9.4961  2.4681  27.5391   13.9872  1.1643\n",
       "3617.2628  118.4935   9.5238  2.4664  32.0472   17.0177  1.1769\n",
       "3617.4152  117.7250   9.5238  2.4565  30.0272   22.0449  1.1877\n",
       "3617.5676   71.3232   9.5238  2.4434  32.0201   27.6100  1.1802\n",
       "3617.7200   72.0622   9.5238  2.4190  33.4220   28.0136  1.1460\n",
       "3617.8724   79.6309   9.4967  2.3954  28.6653   34.0052  1.0448\n",
       "3618.0248   87.1305   9.4286  2.3691  29.3822   33.3281  0.9690\n",
       "3618.1772   93.2733   9.3985  2.3254  34.0400   26.4729  0.9160\n",
       "3618.3296   84.5021   9.3333  2.2694  34.0400   37.6999  0.8827\n",
       "3618.4820   85.3355   9.2710  2.2434  39.4809   30.5046  0.8046\n",
       "3618.6344   90.7607   9.3333  2.2239  40.6847   54.4619  0.7491\n",
       "3618.7868   95.0799   9.3691  2.1321  35.6092   95.4091  0.7483\n",
       "3618.9392  114.7101   9.8529  2.0919  41.5162   86.7227  0.7485\n",
       "3619.0916  149.2187  11.2739  2.2382  46.0491   97.5871  0.7507\n",
       "3619.2440  149.2187  11.3986  2.3535  40.8043   90.0191  0.7340\n",
       "3619.3964  145.2030  11.5238  2.3766  45.7993   61.9258  0.7315\n",
       "3619.5488  141.7253  11.7050  2.3795  54.1651   62.0166  0.7564\n",
       "3619.7012  137.5889  11.8095  2.3793  55.0605   67.0590  0.7658\n",
       "3619.8536  129.0768  12.2770  2.3736  61.8259   80.5069  0.7572\n",
       "3620.0060  117.4485  12.8098  2.3329  59.6013   97.1727  0.7730\n",
       "3620.1584  111.0941  11.1417  2.2282  60.0072  106.4448  0.7931\n",
       "3620.3108  110.5732  11.1982  2.1872  57.7056   63.4259  0.8033\n",
       "3620.4632  110.4621  12.2978  2.2344  51.9180   60.1774  0.8311\n",
       "3620.6156  112.2371  12.7837  2.3124  49.0631   88.3375  0.8515\n",
       "3620.7680  117.8913  13.0338  2.3756  49.3982   90.1326  0.8573\n",
       "3620.9204  102.6344  13.6406  2.3590  49.4810   82.5273  0.8594\n",
       "3621.0728  101.6536  15.5779  2.2906  47.0412   66.2048  0.8530\n",
       "3621.2252  105.9614  17.7143  2.2293  46.6327   88.7961  0.8505\n",
       "3621.3776  114.8240  17.7396  2.2031  46.1048   52.5279  0.8419\n",
       "3621.5300  125.3008  18.0899  2.1838  41.2563   98.5979  0.8454\n",
       "3621.6824  128.0037  18.6181  2.1648  45.8501  146.3474  0.8611\n",
       "3621.8348  133.0906  19.4385  2.1483  44.5325   69.6356  0.9127\n",
       "3621.9872  130.1771  20.2857  2.1475  43.5767   60.4151  0.9035\n",
       "3622.1396  105.6685  20.0833  2.1735  36.6148   81.5431  0.8836\n",
       "3622.2920  110.7699  19.4085  2.1934  41.1121   73.4462  0.8754\n",
       "3622.4444  108.4846  19.5075  2.1840  34.6288   67.9045  0.8633\n",
       "3622.5968  100.1235  19.1670  2.1590  40.5520   65.6380  0.8222\n",
       "3622.7492  102.7397  19.8240  2.1406  41.8270   45.4569  0.7582\n",
       "3622.9016  102.8281  16.6700  2.1465  34.5492   33.6156  0.7274"
      ]
     },
     "execution_count": 35,
     "metadata": {},
     "output_type": "execute_result"
    }
   ],
   "source": [
    "well.head(50)"
   ]
  },
  {
   "cell_type": "markdown",
   "metadata": {},
   "source": [
    "To find out more information about data, we can call upon the `.info()` and `.describe()` functions.  \n",
    "    \n",
    "The `.info()` function provides information about the data types and how many non-null values are present within each curve.  \n",
    "The `.describe()` function, provides statistical information about each curve and can be a useful QC for each curve."
   ]
  },
  {
   "cell_type": "code",
   "execution_count": 21,
   "metadata": {},
   "outputs": [
    {
     "data": {
      "application/vnd.microsoft.datawrangler.viewer.v0+json": {
       "columns": [
        {
         "name": "index",
         "rawType": "object",
         "type": "string"
        },
        {
         "name": "AC",
         "rawType": "float64",
         "type": "float"
        },
        {
         "name": "CALI",
         "rawType": "float64",
         "type": "float"
        },
        {
         "name": "DEN",
         "rawType": "float64",
         "type": "float"
        },
        {
         "name": "GR",
         "rawType": "float64",
         "type": "float"
        },
        {
         "name": "NEU",
         "rawType": "float64",
         "type": "float"
        },
        {
         "name": "RDEP",
         "rawType": "float64",
         "type": "float"
        }
       ],
       "ref": "4c2278cc-d867-424d-bdcb-9286d3ae0e12",
       "rows": [
        [
         "count",
         "6579.0",
         "6579.0",
         "6656.0",
         "6689.0",
         "6668.0",
         "6701.0"
        ],
        [
         "mean",
         "78.313607250342",
         "9.550655570755433",
         "2.459291496394231",
         "36.048562595305725",
         "17.98606126274745",
         "3.221011953439785"
        ],
        [
         "std",
         "17.009534737441076",
         "0.9062667760092308",
         "0.1626815280172612",
         "26.70551933018677",
         "11.694083878766538",
         "8.860387270835005"
        ],
        [
         "min",
         "1.0251",
         "6.0",
         "2.0377",
         "2.7661",
         "2.1783",
         "0.2503"
        ],
        [
         "25%",
         "66.16929999999999",
         "9.1429",
         "2.34125",
         "14.8523",
         "10.244475000000001",
         "0.8006"
        ],
        [
         "50%",
         "74.1459",
         "9.5238",
         "2.5142",
         "32.1426",
         "15.2451",
         "1.77"
        ],
        [
         "75%",
         "89.02425",
         "9.9048",
         "2.5898",
         "50.9017",
         "22.952525",
         "3.394"
        ],
        [
         "max",
         "149.2187",
         "20.2857",
         "3.0013",
         "304.3337",
         "146.3474",
         "198.5371"
        ]
       ],
       "shape": {
        "columns": 6,
        "rows": 8
       }
      },
      "text/html": [
       "<div>\n",
       "<style scoped>\n",
       "    .dataframe tbody tr th:only-of-type {\n",
       "        vertical-align: middle;\n",
       "    }\n",
       "\n",
       "    .dataframe tbody tr th {\n",
       "        vertical-align: top;\n",
       "    }\n",
       "\n",
       "    .dataframe thead th {\n",
       "        text-align: right;\n",
       "    }\n",
       "</style>\n",
       "<table border=\"1\" class=\"dataframe\">\n",
       "  <thead>\n",
       "    <tr style=\"text-align: right;\">\n",
       "      <th></th>\n",
       "      <th>AC</th>\n",
       "      <th>CALI</th>\n",
       "      <th>DEN</th>\n",
       "      <th>GR</th>\n",
       "      <th>NEU</th>\n",
       "      <th>RDEP</th>\n",
       "    </tr>\n",
       "  </thead>\n",
       "  <tbody>\n",
       "    <tr>\n",
       "      <th>count</th>\n",
       "      <td>6579.000000</td>\n",
       "      <td>6579.000000</td>\n",
       "      <td>6656.000000</td>\n",
       "      <td>6689.000000</td>\n",
       "      <td>6668.000000</td>\n",
       "      <td>6701.000000</td>\n",
       "    </tr>\n",
       "    <tr>\n",
       "      <th>mean</th>\n",
       "      <td>78.313607</td>\n",
       "      <td>9.550656</td>\n",
       "      <td>2.459291</td>\n",
       "      <td>36.048563</td>\n",
       "      <td>17.986061</td>\n",
       "      <td>3.221012</td>\n",
       "    </tr>\n",
       "    <tr>\n",
       "      <th>std</th>\n",
       "      <td>17.009535</td>\n",
       "      <td>0.906267</td>\n",
       "      <td>0.162682</td>\n",
       "      <td>26.705519</td>\n",
       "      <td>11.694084</td>\n",
       "      <td>8.860387</td>\n",
       "    </tr>\n",
       "    <tr>\n",
       "      <th>min</th>\n",
       "      <td>1.025100</td>\n",
       "      <td>6.000000</td>\n",
       "      <td>2.037700</td>\n",
       "      <td>2.766100</td>\n",
       "      <td>2.178300</td>\n",
       "      <td>0.250300</td>\n",
       "    </tr>\n",
       "    <tr>\n",
       "      <th>25%</th>\n",
       "      <td>66.169300</td>\n",
       "      <td>9.142900</td>\n",
       "      <td>2.341250</td>\n",
       "      <td>14.852300</td>\n",
       "      <td>10.244475</td>\n",
       "      <td>0.800600</td>\n",
       "    </tr>\n",
       "    <tr>\n",
       "      <th>50%</th>\n",
       "      <td>74.145900</td>\n",
       "      <td>9.523800</td>\n",
       "      <td>2.514200</td>\n",
       "      <td>32.142600</td>\n",
       "      <td>15.245100</td>\n",
       "      <td>1.770000</td>\n",
       "    </tr>\n",
       "    <tr>\n",
       "      <th>75%</th>\n",
       "      <td>89.024250</td>\n",
       "      <td>9.904800</td>\n",
       "      <td>2.589800</td>\n",
       "      <td>50.901700</td>\n",
       "      <td>22.952525</td>\n",
       "      <td>3.394000</td>\n",
       "    </tr>\n",
       "    <tr>\n",
       "      <th>max</th>\n",
       "      <td>149.218700</td>\n",
       "      <td>20.285700</td>\n",
       "      <td>3.001300</td>\n",
       "      <td>304.333700</td>\n",
       "      <td>146.347400</td>\n",
       "      <td>198.537100</td>\n",
       "    </tr>\n",
       "  </tbody>\n",
       "</table>\n",
       "</div>"
      ],
      "text/plain": [
       "                AC         CALI          DEN           GR          NEU  \\\n",
       "count  6579.000000  6579.000000  6656.000000  6689.000000  6668.000000   \n",
       "mean     78.313607     9.550656     2.459291    36.048563    17.986061   \n",
       "std      17.009535     0.906267     0.162682    26.705519    11.694084   \n",
       "min       1.025100     6.000000     2.037700     2.766100     2.178300   \n",
       "25%      66.169300     9.142900     2.341250    14.852300    10.244475   \n",
       "50%      74.145900     9.523800     2.514200    32.142600    15.245100   \n",
       "75%      89.024250     9.904800     2.589800    50.901700    22.952525   \n",
       "max     149.218700    20.285700     3.001300   304.333700   146.347400   \n",
       "\n",
       "              RDEP  \n",
       "count  6701.000000  \n",
       "mean      3.221012  \n",
       "std       8.860387  \n",
       "min       0.250300  \n",
       "25%       0.800600  \n",
       "50%       1.770000  \n",
       "75%       3.394000  \n",
       "max     198.537100  "
      ]
     },
     "execution_count": 21,
     "metadata": {},
     "output_type": "execute_result"
    }
   ],
   "source": [
    "well.describe()"
   ]
  },
  {
   "cell_type": "code",
   "execution_count": 22,
   "metadata": {},
   "outputs": [
    {
     "name": "stdout",
     "output_type": "stream",
     "text": [
      "<class 'pandas.core.frame.DataFrame'>\n",
      "Index: 6701 entries, 3615.434 to 4636.514\n",
      "Data columns (total 6 columns):\n",
      " #   Column  Non-Null Count  Dtype  \n",
      "---  ------  --------------  -----  \n",
      " 0   AC      6579 non-null   float64\n",
      " 1   CALI    6579 non-null   float64\n",
      " 2   DEN     6656 non-null   float64\n",
      " 3   GR      6689 non-null   float64\n",
      " 4   NEU     6668 non-null   float64\n",
      " 5   RDEP    6701 non-null   float64\n",
      "dtypes: float64(6)\n",
      "memory usage: 366.5 KB\n"
     ]
    }
   ],
   "source": [
    "well.info()"
   ]
  },
  {
   "cell_type": "markdown",
   "metadata": {},
   "source": [
    "### Quick Plot\n",
    "\n",
    "Using the ploting function within pandas, we can plot all curves on a single plot."
   ]
  },
  {
   "cell_type": "code",
   "execution_count": 23,
   "metadata": {},
   "outputs": [
    {
     "data": {
      "text/plain": [
       "<Axes: xlabel='DEPT'>"
      ]
     },
     "execution_count": 23,
     "metadata": {},
     "output_type": "execute_result"
    },
    {
     "data": {
      "image/png": "[encoded data removed]",
      "text/plain": [
       "<Figure size 640x480 with 1 Axes>"
      ]
     },
     "metadata": {},
     "output_type": "display_data"
    }
   ],
   "source": [
    "well.plot()"
   ]
  },
  {
   "cell_type": "markdown",
   "metadata": {},
   "source": [
    "When we look at the plot above, we can see that is not very useful to us as all logging measurements have their own scales. We can see that RDEP, which is Deep Resistivity is very flat. That is becuase it is notmally plotted on a logarithmich scale. Similary, density (DEN) is also not easily distinguisable due to its small range (1.5 g/cc to 3g/cc).\n",
    "\n",
    "We can plot individual curves by supplying a y variable argument like so:"
   ]
  },
  {
   "cell_type": "code",
   "execution_count": 39,
   "metadata": {},
   "outputs": [
    {
     "data": {
      "text/plain": [
       "<Axes: title={'center': 'GR VS Depth'}, xlabel='Depth', ylabel='Gama Ray'>"
      ]
     },
     "execution_count": 39,
     "metadata": {},
     "output_type": "execute_result"
    },
    {
     "data": {
      "image/png": "[encoded data removed]",
      "text/plain": [
       "<Figure size 640x480 with 1 Axes>"
      ]
     },
     "metadata": {},
     "output_type": "display_data"
    }
   ],
   "source": [
    "well.plot(y='GR', title=\"GR VS Depth\", xlabel='Depth', ylabel=\"Gama Ray\")"
   ]
  },
  {
   "cell_type": "markdown",
   "metadata": {},
   "source": [
    "This allows us to view the Gamma Ray Curve on its own. We can change the variable to any other curve within the dataframe and view it as follows: "
   ]
  },
  {
   "cell_type": "code",
   "execution_count": 25,
   "metadata": {},
   "outputs": [
    {
     "data": {
      "text/plain": [
       "<Axes: xlabel='DEPT'>"
      ]
     },
     "execution_count": 25,
     "metadata": {},
     "output_type": "execute_result"
    },
    {
     "data": {
      "image/png": "[encoded data removed]",
      "text/plain": [
       "<Figure size 640x480 with 1 Axes>"
      ]
     },
     "metadata": {},
     "output_type": "display_data"
    }
   ],
   "source": [
    "well.plot(y='DEN')"
   ]
  },
  {
   "cell_type": "code",
   "execution_count": null,
   "metadata": {},
   "outputs": [],
   "source": []
  }
 ],
 "metadata": {
  "kernelspec": {
   "display_name": ".venv",
   "language": "python",
   "name": "python3"
  },
  "language_info": {
   "codemirror_mode": {
    "name": "ipython",
    "version": 3
   },
   "file_extension": ".py",
   "mimetype": "text/x-python",
   "name": "python",
   "nbconvert_exporter": "python",
   "pygments_lexer": "ipython3",
   "version": "3.12.2"
  }
 },
 "nbformat": 4,
 "nbformat_minor": 4
}
